{
 "cells": [
  {
   "cell_type": "markdown",
   "metadata": {},
   "source": [
    "# First demo"
   ]
  },
  {
   "cell_type": "code",
   "execution_count": 3,
   "metadata": {},
   "outputs": [
    {
     "name": "stdout",
     "output_type": "stream",
     "text": [
      "Hello blinka!\n",
      "Digital IO ok!\n",
      "I2C ok!\n",
      "SPI(): __init()\n",
      "spiPorts: ((0, 11, 10, 9), (1, 21, 20, 19))\n",
      "for:\n",
      "0 11 10 9\n",
      "Line 91\n",
      "<class 'adafruit_blinka.microcontroller.generic_linux.spi.SPI'>\n",
      "<adafruit_blinka.microcontroller.generic_linux.spi.SPI object at 0x6ac4d1b0>\n",
      "SPI ok!\n",
      "done!\n"
     ]
    }
   ],
   "source": [
    "import board\n",
    "import digitalio\n",
    "import busio\n",
    " \n",
    "print(\"Hello blinka!\")\n",
    " \n",
    "# Try to great a Digital input\n",
    "pin = digitalio.DigitalInOut(board.D4)\n",
    "print(\"Digital IO ok!\")\n",
    " \n",
    "# Try to create an I2C device\n",
    "i2c = busio.I2C(board.SCL, board.SDA)\n",
    "print(\"I2C ok!\")\n",
    " \n",
    "# Try to create an SPI device\n",
    "spi = busio.SPI(board.SCLK, board.MOSI, board.MISO)\n",
    "print(\"SPI ok!\")\n",
    " \n",
    "print(\"done!\")"
   ]
  },
  {
   "cell_type": "markdown",
   "metadata": {},
   "source": [
    "# Second demo"
   ]
  },
  {
   "cell_type": "code",
   "execution_count": 31,
   "metadata": {
    "scrolled": true
   },
   "outputs": [
    {
     "name": "stdout",
     "output_type": "stream",
     "text": [
      "press the button!\n"
     ]
    }
   ],
   "source": [
    "import time\n",
    "import board\n",
    "import digitalio\n",
    " \n",
    "print(\"press the button!\")\n",
    " \n",
    "blue_button = digitalio.DigitalInOut(board.D4)\n",
    "blue_button.direction = digitalio.Direction.INPUT\n",
    "blue_button.pull = digitalio.Pull.UP\n",
    "\n",
    "red_button = digitalio.DigitalInOut(board.D14)\n",
    "red_button.direction = digitalio.Direction.INPUT\n",
    "red_button.pull = digitalio.Pull.UP\n",
    "\n",
    "blue_button_last_state = True\n",
    "red_button_last_state = True\n",
    "counter = 0\n",
    "debounceTime = 0.1"
   ]
  },
  {
   "cell_type": "code",
   "execution_count": null,
   "metadata": {},
   "outputs": [
    {
     "name": "stdout",
     "output_type": "stream",
     "text": [
      "red button pressed 2\n",
      "red button pressed 1\n",
      "red button pressed 0\n",
      "blue button pressed -1\n",
      "blue button pressed 0\n",
      "blue button pressed 1\n",
      "red button pressed 2\n",
      "red button pressed 1\n",
      "blue button pressed 0\n"
     ]
    }
   ],
   "source": [
    "while True:\n",
    "    if blue_button_last_state & ~blue_button.value:\n",
    "        counter = counter + 1\n",
    "        \n",
    "        print('blue button pressed', counter)\n",
    "\n",
    "    if red_button_last_state & ~red_button.value:\n",
    "        counter = counter - 1\n",
    "        \n",
    "        print('red button pressed', counter)\n",
    "    \n",
    "    blue_button_last_state = blue_button.value\n",
    "    \n",
    "    red_button_last_state = red_button.value\n",
    "    \n",
    "    time.sleep(debounceTime)"
   ]
  },
  {
   "cell_type": "code",
   "execution_count": null,
   "metadata": {},
   "outputs": [],
   "source": []
  },
  {
   "cell_type": "code",
   "execution_count": null,
   "metadata": {},
   "outputs": [],
   "source": []
  }
 ],
 "metadata": {
  "kernelspec": {
   "display_name": "Python 3",
   "language": "python",
   "name": "python3"
  },
  "language_info": {
   "codemirror_mode": {
    "name": "ipython",
    "version": 3
   },
   "file_extension": ".py",
   "mimetype": "text/x-python",
   "name": "python",
   "nbconvert_exporter": "python",
   "pygments_lexer": "ipython3",
   "version": "3.6.6"
  }
 },
 "nbformat": 4,
 "nbformat_minor": 2
}
